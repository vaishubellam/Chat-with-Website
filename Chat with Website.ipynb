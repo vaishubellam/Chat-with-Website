{
 "cells": [
  {
   "cell_type": "code",
   "execution_count": 1,
   "id": "bc841991",
   "metadata": {},
   "outputs": [
    {
     "name": "stderr",
     "output_type": "stream",
     "text": [
      "C:\\Users\\VAISHNAVI\\.ipython\\python scripts\\lib\\site-packages\\pandas\\core\\computation\\expressions.py:21: UserWarning: Pandas requires version '2.8.4' or newer of 'numexpr' (version '2.8.3' currently installed).\n",
      "  from pandas.core.computation.check import NUMEXPR_INSTALLED\n",
      "C:\\Users\\VAISHNAVI\\.ipython\\python scripts\\lib\\site-packages\\pandas\\core\\arrays\\masked.py:60: UserWarning: Pandas requires version '1.3.6' or newer of 'bottleneck' (version '1.3.5' currently installed).\n",
      "  from pandas.core import (\n"
     ]
    }
   ],
   "source": [
    "import requests\n",
    "from bs4 import BeautifulSoup\n",
    "from sentence_transformers import SentenceTransformer\n",
    "import numpy as np\n",
    "import faiss\n",
    "\n",
    "# Function to scrape content from a website\n",
    "def scrape_website(url):\n",
    "    response = requests.get(url)\n",
    "    soup = BeautifulSoup(response.text, 'html.parser')\n",
    "    \n",
    "    # Extract text content\n",
    "    paragraphs = soup.find_all('p')\n",
    "    text_content = ' '.join([para.get_text() for para in paragraphs])\n",
    "    \n",
    "    return text_content\n",
    "\n",
    "# Example URLs\n",
    "urls = [\n",
    "    \"https://www.stanford.edu/\",\n",
    "    \"https://und.edu/\"\n",
    "]\n",
    "\n",
    "# Scrape content from each URL\n",
    "website_contents = {}\n",
    "for url in urls:\n",
    "    website_contents[url] = scrape_website(url)"
   ]
  },
  {
   "cell_type": "code",
   "execution_count": 2,
   "id": "fd7d4112",
   "metadata": {},
   "outputs": [],
   "source": [
    "# Load the embedding model\n",
    "embedding_model = SentenceTransformer('all-MiniLM-L6-v2')\n",
    "\n",
    "# Function to create chunks and embeddings\n",
    "def create_chunks_and_embeddings(content, chunk_size=512):\n",
    "    # Split content into chunks\n",
    "    chunks = [content[i:i + chunk_size] for i in range(0, len(content), chunk_size)]\n",
    "    embeddings = embedding_model.encode(chunks)\n",
    "    return chunks, embeddings\n",
    "\n",
    "# Store chunks and embeddings\n",
    "all_chunks = []\n",
    "all_embeddings = []\n",
    "\n",
    "for url, content in website_contents.items():\n",
    "    chunks, embeddings = create_chunks_and_embeddings(content)\n",
    "    all_chunks.extend(chunks)\n",
    "    all_embeddings.extend(embeddings)\n",
    "\n",
    "# Convert to numpy array for FAISS\n",
    "all_embeddings = np.array(all_embeddings).astype('float32')\n",
    "\n",
    "# Create a FAISS index\n",
    "index = faiss.IndexFlatL2(all_embeddings.shape[1])  # L2 distance\n",
    "index.add(all_embeddings)  # Add embeddings to the index"
   ]
  },
  {
   "cell_type": "code",
   "execution_count": 5,
   "id": "c8c93885",
   "metadata": {},
   "outputs": [],
   "source": [
    "def handle_query(query):\n",
    "    # Convert the query to an embedding\n",
    "    query_embedding = embedding_model.encode([query])\n",
    "    \n",
    "    # Perform a similarity search\n",
    "    D, I = index.search(np.array(query_embedding).astype('float32'), k=5)  # Retrieve top 5 results\n",
    "    return I[0]  # Return indices of the most relevant chunks\n",
    "\n",
    "# Query\n",
    "user_query = \"Write in brief about Stanford University?\"\n",
    "relevant_indices = handle_query(user_query)\n",
    "\n",
    "# Retrieve relevant chunks\n",
    "relevant_chunks = [all_chunks[i] for i in relevant_indices]"
   ]
  },
  {
   "cell_type": "code",
   "execution_count": 6,
   "id": "c51753fb",
   "metadata": {},
   "outputs": [
    {
     "name": "stderr",
     "output_type": "stream",
     "text": [
      "Device set to use cpu\n",
      "Setting `pad_token_id` to `eos_token_id`:50256 for open-end generation.\n"
     ]
    },
    {
     "name": "stdout",
     "output_type": "stream",
     "text": [
      "Based on the following information, answer the question: Write in brief about Stanford University?\n",
      "\n",
      "Context: \n",
      "      Other ways to search:\n",
      "        Map\n",
      "Profiles\n",
      " Stanford Explore Stanford Stanford was founded almost 150 years ago on a bedrock of societal purpose. Our mission is to contribute to the world by educating students for lives of leadership and contribution with integrity; advancing fundamental knowledge and cultivating creativity; leading in pioneering research for effective clinical therapies; and accelerating solutions and amplifying their impact. Stories about people, research, and innovation across the e evolutions of yourself.” Class of 2024 Building a vibrant community of creative and accomplished people from around the world A residential campus with diverse housing, exceptional dining, and over 600 student organizations Student Affairs A rich tradition of fostering creativity and a vibrant arts district on campus Stanford Arts State-of-the-art facilities and fitness programs to encourage movement and play Recreation & Wellness Providing student-athletes the opportunity to achieve excellence both in co on, and clinical enterprises Stanford Medicine Leveraging expertise and advanced technology  to deliver unparalleled care for each patient’s unique needs Stanford Health Care The only health care network in the Bay Area – and one of the few in the country – exclusively dedicated to pediatric and obstetric care Stanford Children’s Health “I think about all the projects that students throw themselves at quarter after quarter, just really expanding and stretching their minds. … Stanford allows you to experienc ing extraordinary freedom to explore, to collaborate, and to challenge yourself We look for distinctive students who exhibit an abundance of energy and curiosity in their classes, activities, projects, research, and lives. More than two-thirds of undergrads receive some form of financial assistance. Generally, tuition is covered for families with incomes below $150,000. ©Copyright \n",
      "Stanford University.  \n",
      "        \n",
      "Stanford,\n",
      "          California\n",
      "94305.\n",
      " mpetition and in the classroom Stanford’s 136 NCAA championships are the most for any university, a product of an unrivaled culture of excellence and continued support from the campus community National Championships The Cardinal has produced at least one medalist in every Olympics in which the U.S. has competed since 1912, totaling 335 medals from 196 medalists Medals  Stanford student-athletes have achieved local, national, and global impact through community involvement and advocacy Athlete Stories Offer\n",
      "\n",
      "Answer:\n",
      "\n",
      "This is an open letter, for educational audiences.\n",
      "\n",
      "To the readers of this story.\n",
      "\n",
      "I hope you will take the time to consider all of these important issues, and ask yourself why anyone would ever wish to invest any effort\n"
     ]
    }
   ],
   "source": [
    "from transformers import pipeline\n",
    "\n",
    "# Load a pre-trained language model for response generation\n",
    "llm = pipeline(\"text-generation\", model=\"gpt2\")\n",
    "\n",
    "def generate_response(relevant_chunks, user_query):\n",
    "    context = \" \".join(relevant_chunks)\n",
    "    prompt = f\"Based on the following information, answer the question: {user_query}\\n\\nContext: {context}\\n\\nAnswer:\"\n",
    "    \n",
    "    # Use max_new_tokens instead of max_length\n",
    "    response = llm(prompt, max_new_tokens=50, num_return_sequences=1)  # Generate up to 50 new tokens\n",
    "    return response[0]['generated_text']\n",
    "\n",
    "# Generate a response\n",
    "response = generate_response(relevant_chunks, user_query)\n",
    "print(response)"
   ]
  },
  {
   "cell_type": "code",
   "execution_count": null,
   "id": "aead86cf",
   "metadata": {},
   "outputs": [],
   "source": []
  }
 ],
 "metadata": {
  "kernelspec": {
   "display_name": "Python 3 (ipykernel)",
   "language": "python",
   "name": "python3"
  },
  "language_info": {
   "codemirror_mode": {
    "name": "ipython",
    "version": 3
   },
   "file_extension": ".py",
   "mimetype": "text/x-python",
   "name": "python",
   "nbconvert_exporter": "python",
   "pygments_lexer": "ipython3",
   "version": "3.9.13"
  }
 },
 "nbformat": 4,
 "nbformat_minor": 5
}
